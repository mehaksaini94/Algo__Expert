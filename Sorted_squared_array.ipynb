{
  "cells": [
    {
      "cell_type": "markdown",
      "metadata": {
        "id": "view-in-github",
        "colab_type": "text"
      },
      "source": [
        "<a href=\"https://colab.research.google.com/github/mehaksaini94/Algo__Expert__daily/blob/main/Sorted_squared_array.ipynb\" target=\"_parent\"><img src=\"https://colab.research.google.com/assets/colab-badge.svg\" alt=\"Open In Colab\"/></a>"
      ]
    },
    {
      "cell_type": "code",
      "execution_count": null,
      "id": "abcf4958",
      "metadata": {
        "id": "abcf4958"
      },
      "outputs": [],
      "source": [
        "#Solution 1: Acc. to Hint 2\n",
        "#Time: O(nlog(n)) | Space: O(n)\n",
        "def sortedSquaredArray(array):\n",
        "    if len(array) == 0:\n",
        "        return []\n",
        "    output_array = []\n",
        "    for index in range(0, len(array)):\n",
        "        output_array.append(array[index] **2)\n",
        "    output_array.sort()\n",
        "    return output_array"
      ]
    },
    {
      "cell_type": "code",
      "execution_count": null,
      "id": "6850d772",
      "metadata": {
        "id": "6850d772",
        "outputId": "867f867b-4e07-4b53-ca04-ac290d3b8073"
      },
      "outputs": [
        {
          "name": "stdout",
          "output_type": "stream",
          "text": [
            "[1, 4, 9, 25, 36, 64, 81]\n"
          ]
        }
      ],
      "source": [
        "array = [1,2,3,5,6,8,9]\n",
        "output_array = sortedSquaredArray(array)\n",
        "print(output_array)"
      ]
    },
    {
      "cell_type": "code",
      "source": [
        "#Using list comprehension and in-built sort()function.\n",
        "\n",
        "def sortedSquaredArray(array):\n",
        "    sq_arr = [ele**2 for ele in array]\n",
        "    sq_arr.sort()\n",
        "    return sq_arr"
      ],
      "metadata": {
        "id": "X15GAps6ABTu"
      },
      "execution_count": null,
      "outputs": [],
      "id": "X15GAps6ABTu"
    },
    {
      "cell_type": "code",
      "execution_count": null,
      "id": "4c4c7db8",
      "metadata": {
        "id": "4c4c7db8"
      },
      "outputs": [],
      "source": [
        "#Solution 2: Acc. to Hint 3\n",
        "#TC: O(n) | SC: O(n)\n",
        "def sortedSquaredArray(array):\n",
        "    if len(array) == 0:\n",
        "        return []\n",
        "    output_array = [0 for _ in array]\n",
        "    left = 0\n",
        "    right = len(array)-1\n",
        "    index = len(array)-1\n",
        "    while (left < right) and (index >= 0):\n",
        "        if abs(array[left]) <= abs(array[right]):\n",
        "            output_array[index] = array[right]**2\n",
        "            right -= 1\n",
        "            index -=1\n",
        "        elif abs(array[left]) > abs(array[right]):\n",
        "            output_array[index]= array[left]**2\n",
        "            index -=1\n",
        "            left +=1\n",
        "    return output_array"
      ]
    },
    {
      "cell_type": "code",
      "execution_count": null,
      "id": "3a73d232",
      "metadata": {
        "id": "3a73d232",
        "outputId": "3851db50-7ab3-46e6-d48f-c58539f4171b"
      },
      "outputs": [
        {
          "name": "stdout",
          "output_type": "stream",
          "text": [
            "[0, 4, 9, 25]\n"
          ]
        }
      ],
      "source": [
        "array = [-1,2,3,5]\n",
        "output_array = sortedSquaredArray(array)\n",
        "print(output_array)"
      ]
    },
    {
      "cell_type": "code",
      "execution_count": null,
      "id": "ea26ce40",
      "metadata": {
        "id": "ea26ce40",
        "outputId": "79f4269e-6ee2-4096-ceb0-22dfeadd61ba"
      },
      "outputs": [
        {
          "name": "stdout",
          "output_type": "stream",
          "text": [
            "4\n",
            "[0, 0, 0, 0]\n",
            "[0, 0, 0, 5]\n"
          ]
        }
      ],
      "source": [
        "array = [-1,2,3,5]\n",
        "print(len(array))\n",
        "a =(len(array)-1)\n",
        "output_array = [0 for _ in array]\n",
        "print(output_array)\n",
        "output_array [a] = 5\n",
        "print(output_array)"
      ]
    },
    {
      "cell_type": "code",
      "execution_count": null,
      "id": "42a8e02c",
      "metadata": {
        "id": "42a8e02c",
        "outputId": "dd91040d-b14a-4a4a-8991-b0b581010da1"
      },
      "outputs": [
        {
          "name": "stdout",
          "output_type": "stream",
          "text": [
            "[0, 0, 0, 0]\n"
          ]
        }
      ],
      "source": [
        "print(arr)"
      ]
    },
    {
      "cell_type": "code",
      "execution_count": null,
      "id": "cf26d494",
      "metadata": {
        "colab": {
          "base_uri": "https://localhost:8080/"
        },
        "id": "cf26d494",
        "outputId": "fb641665-bc20-4b8e-f91d-79b8c5fd93ea"
      },
      "outputs": [
        {
          "output_type": "stream",
          "name": "stdout",
          "text": [
            "0\n",
            "1\n",
            "2\n",
            "*********************\n",
            "2\n",
            "1\n",
            "0\n"
          ]
        }
      ],
      "source": [
        "for i in range(3):\n",
        "  print(i)\n",
        "\n",
        "print('*********************')\n",
        "\n",
        "for i in reversed(range(3)):\n",
        "  print(i)"
      ]
    },
    {
      "cell_type": "code",
      "source": [
        "list = [1,2,3,4]\n",
        "for ele in reversed(list):\n",
        "  print(ele)"
      ],
      "metadata": {
        "colab": {
          "base_uri": "https://localhost:8080/"
        },
        "id": "wWsnjRQYcpIN",
        "outputId": "86d32713-a6c8-453f-eb60-016ef567429b"
      },
      "id": "wWsnjRQYcpIN",
      "execution_count": null,
      "outputs": [
        {
          "output_type": "stream",
          "name": "stdout",
          "text": [
            "4\n",
            "3\n",
            "2\n",
            "1\n"
          ]
        }
      ]
    },
    {
      "cell_type": "code",
      "source": [
        "array = [1,2,3,4]\n",
        "print([ 0 for _ in range(len(array))])\n",
        "print([ 0 for _ in array])"
      ],
      "metadata": {
        "colab": {
          "base_uri": "https://localhost:8080/"
        },
        "id": "M7vsRSCLdI9Y",
        "outputId": "08316ce0-2bd8-443f-9c16-188b75641bab"
      },
      "id": "M7vsRSCLdI9Y",
      "execution_count": null,
      "outputs": [
        {
          "output_type": "stream",
          "name": "stdout",
          "text": [
            "[0, 0, 0, 0]\n",
            "[0, 0, 0, 0]\n"
          ]
        }
      ]
    },
    {
      "cell_type": "code",
      "source": [
        "#Solution 2 using for loop\n",
        "def sortedSquaredArray(array):\n",
        "    output_array = [ 0 for _ in range(len(array))]\n",
        "    leftIdx = 0\n",
        "    rightIdx = len(array)-1\n",
        "\n",
        "    for idx in reversed(range(len(array))):\n",
        "      if abs(array[leftIdx]) > abs(array[rightIdx]):\n",
        "        output_array[idx] = array[leftIdx] * array[leftIdx]\n",
        "        leftIdx +=1\n",
        "      else:\n",
        "        output_array[idx] = array[rightIdx] * array[rightIdx]\n",
        "        rightIdx -=1\n",
        "\n",
        "    return output_array\n"
      ],
      "metadata": {
        "id": "wAnrNA9je0Rq"
      },
      "id": "wAnrNA9je0Rq",
      "execution_count": null,
      "outputs": []
    }
  ],
  "metadata": {
    "kernelspec": {
      "display_name": "Python 3 (ipykernel)",
      "language": "python",
      "name": "python3"
    },
    "language_info": {
      "codemirror_mode": {
        "name": "ipython",
        "version": 3
      },
      "file_extension": ".py",
      "mimetype": "text/x-python",
      "name": "python",
      "nbconvert_exporter": "python",
      "pygments_lexer": "ipython3",
      "version": "3.9.7"
    },
    "colab": {
      "provenance": [],
      "include_colab_link": true
    }
  },
  "nbformat": 4,
  "nbformat_minor": 5
}
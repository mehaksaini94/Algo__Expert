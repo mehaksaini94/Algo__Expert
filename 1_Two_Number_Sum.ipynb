{
  "cells": [
    {
      "cell_type": "markdown",
      "metadata": {
        "id": "view-in-github",
        "colab_type": "text"
      },
      "source": [
        "<a href=\"https://colab.research.google.com/github/mehaksaini94/Algo__Expert__daily/blob/main/1_Two_Number_Sum.ipynb\" target=\"_parent\"><img src=\"https://colab.research.google.com/assets/colab-badge.svg\" alt=\"Open In Colab\"/></a>"
      ]
    },
    {
      "cell_type": "markdown",
      "id": "aaeaf4bb",
      "metadata": {
        "id": "aaeaf4bb"
      },
      "source": [
        "### Data structure used: array\n",
        "\n",
        "\n",
        "\n"
      ]
    },
    {
      "cell_type": "markdown",
      "id": "31c98445",
      "metadata": {
        "id": "31c98445"
      },
      "source": [
        "### Trick:\n",
        "For best time complexity, use dictionary.\n",
        "For best space complexity and ok-ish time complexity, use sorting technique.\n",
        "\n"
      ]
    },
    {
      "cell_type": "markdown",
      "id": "e605ee60",
      "metadata": {
        "id": "e605ee60"
      },
      "source": [
        "# Problem statement:\n",
        "\n",
        "To return an output array containing any 1 pair of nos. from the input array that add up equal to the target sum.\n",
        "\n",
        "**I/P args:**\n",
        "1.) array 2.) target sum\n",
        "\n",
        "**O/P args:**\n",
        "\n",
        "[empty array if no 2 elements of input array add up to get target sum]\n",
        "\n",
        "or\n",
        "          \n",
        "[array conatining any 2 nos. adding up to the target sum]\n",
        "\n",
        "**PS:** Don't add a no. to itself to obtain the target sum."
      ]
    },
    {
      "cell_type": "markdown",
      "id": "2c73bb2c",
      "metadata": {
        "id": "2c73bb2c"
      },
      "source": [
        "**Syntax of in-built Python function used:**\n",
        "\n",
        "range(start (inclusive), stop (exclusive), step)"
      ]
    },
    {
      "cell_type": "code",
      "execution_count": null,
      "id": "9592efde",
      "metadata": {
        "id": "9592efde",
        "outputId": "2f71980a-59d2-4c57-abeb-99d5082d60f3"
      },
      "outputs": [
        {
          "name": "stdout",
          "output_type": "stream",
          "text": [
            "1\n",
            "2\n",
            "3\n"
          ]
        }
      ],
      "source": [
        "#Example:\n",
        "for index in range(1,4):\n",
        "    print(index)"
      ]
    },
    {
      "cell_type": "markdown",
      "id": "e9dd78e9",
      "metadata": {
        "id": "e9dd78e9"
      },
      "source": [
        "# Method 1: Brute Force technique\n",
        "\n",
        "Time complexity: O(n^2)\n",
        "In outer loop, in the worst case scenario, the entire array, containing 'n' elements will be traversed.\n",
        "Also, in the inner loop, in every iteration, the worst case no. of comparisons will be:\n",
        "(n-1) in 1st iteration\n",
        "(n-2) in 2nd iteration\n",
        "....\n",
        "1 in last iteration\n",
        "![Photo%20on%2002-05-22%20at%208.50%20PM.jpg](attachment:Photo%20on%2002-05-22%20at%208.50%20PM.jpg)\n",
        "\n",
        "Space complexity: O(1)"
      ]
    },
    {
      "cell_type": "code",
      "execution_count": null,
      "id": "956856cc",
      "metadata": {
        "id": "956856cc"
      },
      "outputs": [],
      "source": [
        "#using 2 for loops\n",
        "def twoNumberSum(array, targetSum):\n",
        "    length_of_array = len(array)\n",
        "    for index in range(0,length_of_array-1):\n",
        "        for i in range(index+1, length_of_array):\n",
        "            if array[index] + array[i] == targetSum:\n",
        "                return[array[index], array[i]]\n",
        "    return []\n",
        "\n",
        "'''PS: In outer loop, there is no need to check\n",
        "for the last element as it will be checked in the inner loop for every other element.\n",
        "In inner loop, use 'index+1' to avoid addition\n",
        "of a no. with itself.\n",
        "'''"
      ]
    },
    {
      "cell_type": "code",
      "execution_count": null,
      "id": "1b27ef8c",
      "metadata": {
        "id": "1b27ef8c",
        "outputId": "0ea09e44-689b-460d-d228-23b2f13a20d3"
      },
      "outputs": [
        {
          "name": "stdout",
          "output_type": "stream",
          "text": [
            "[5, 1]\n"
          ]
        }
      ],
      "source": [
        "array = [3,5,-4,1]\n",
        "targetSum=6\n",
        "output_array = twoNumberSum(array, targetSum)\n",
        "print(output_array)"
      ]
    },
    {
      "cell_type": "markdown",
      "id": "650a71ec",
      "metadata": {
        "id": "650a71ec"
      },
      "source": [
        "# Method 2 (a): Using Set"
      ]
    },
    {
      "cell_type": "markdown",
      "id": "a5ff07f3",
      "metadata": {
        "id": "a5ff07f3"
      },
      "source": [
        "Time complexity: O(n^2)\n",
        "\n",
        "Space complexity: O(n)\n"
      ]
    },
    {
      "cell_type": "code",
      "execution_count": null,
      "id": "bf06f529",
      "metadata": {
        "id": "bf06f529",
        "outputId": "42a404bd-438d-4443-c323-822cad399bff"
      },
      "outputs": [
        {
          "name": "stdout",
          "output_type": "stream",
          "text": [
            "[5, 1]\n"
          ]
        }
      ],
      "source": [
        "# Using sets:\n",
        "'''In every iteration of the inner loop, a new DS (set) is created.\n",
        "Here, set is a local variable for the outer loop but it is global variable for the inner loop.\n",
        "Also, inner loop will run only (N-1) times in worst case scenario. So, set will also store\n",
        "(N-1) elements. By ignoring 1, acc. to the Big -O convention, we get space complexity as O(n).\n",
        "'''\n",
        "#import pdb\n",
        "def twoNumberSum(array, targetSum):\n",
        "    output_array = []\n",
        "    length_of_array = len(array)\n",
        "    #pdb.set_trace()\n",
        "    for index in range(0,length_of_array-1):\n",
        "        y = targetSum - array[index]\n",
        "        temp = set()\n",
        "        for i in range(index+1,length_of_array):\n",
        "            temp.add(array[i])\n",
        "        if y in temp:\n",
        "            output_array=[array[index],y]\n",
        "            break\n",
        "    return output_array\n",
        "\n",
        "array = [3,5,-4,1]\n",
        "targetSum=6\n",
        "output_array = twoNumberSum(array, targetSum)\n",
        "print(output_array)"
      ]
    },
    {
      "cell_type": "markdown",
      "metadata": {
        "id": "35LjueEsorGL"
      },
      "source": [
        "# Method 2 (b): Using Array"
      ],
      "id": "35LjueEsorGL"
    },
    {
      "cell_type": "code",
      "source": [
        "def twoNumberSum(array,targetSum):\n",
        "  for idx in range(len(array)):\n",
        "    if targetSum - array[idx] in array[idx+1:]:\n",
        "      return [array[idx],targetSum - array[idx]]\n",
        "  return []"
      ],
      "metadata": {
        "id": "oA1mG9duooLB"
      },
      "id": "oA1mG9duooLB",
      "execution_count": null,
      "outputs": []
    },
    {
      "cell_type": "markdown",
      "id": "83bf607d",
      "metadata": {
        "id": "83bf607d"
      },
      "source": [
        "# Method 3:"
      ]
    },
    {
      "cell_type": "markdown",
      "id": "c6b22ab8",
      "metadata": {
        "id": "c6b22ab8"
      },
      "source": [
        "Best for time complexity.\n",
        "\n",
        "Time complexity: O(n) (as there is only 1 for loop and in the worst case scenario, it will run for the total no. of elements i.e., n.\n",
        "\n",
        "Space complexity: O(n)\n",
        "\n",
        "Here, instead of creating a new DS in every loop, only 1 element is added in a dictionary in every iteration of inner loop. Total space taken by dictionary is n.\n"
      ]
    },
    {
      "cell_type": "code",
      "execution_count": null,
      "id": "ca9fcccd",
      "metadata": {
        "scrolled": true,
        "id": "ca9fcccd",
        "outputId": "99f6889d-9801-45b2-b95c-18ba51c75a4e"
      },
      "outputs": [
        {
          "name": "stdout",
          "output_type": "stream",
          "text": [
            "([1, 3], {3: True, 5: True, -4: True})\n"
          ]
        }
      ],
      "source": [
        "#Using dictionary:\n",
        "def twoNumberSum(array, targetSum):\n",
        "    length_of_array = len(array)\n",
        "    temp={}\n",
        "    for index in range(0,length_of_array):\n",
        "        firstNum = array[index]\n",
        "        secondNum = targetSum - firstNum\n",
        "        if secondNum in temp:\n",
        "            return [firstNum,secondNum], temp\n",
        "        else:\n",
        "            temp[firstNum] = True\n",
        "    return []\n",
        "\n",
        "array = [3,5,-4,1]\n",
        "targetSum=4\n",
        "output_array = twoNumberSum(array, targetSum)\n",
        "print(output_array)"
      ]
    },
    {
      "cell_type": "markdown",
      "source": [
        "#**PS:**\n",
        "Using a dictionary (or hashmap) in the `twoNumberSum` function provides a more efficient approach compared to directly searching within arrays or sets for several reasons:\n",
        "\n",
        "### Benefits of Using a Dictionary:\n",
        "\n",
        "1. **Time Complexity**:\n",
        "   - Using a dictionary (`present`) allows checking if a number (`y`) is in constant time (`O(1)` average case) due to its efficient lookup using hash tables.\n",
        "   - In contrast, directly searching within an array (`array[idx+1:]`) or a set (`set(array[idx+1:])`) for each element could result in a time complexity of `O(n)` for each lookup operation, leading to a less efficient solution overall.\n",
        "\n",
        "2. **Avoiding Redundant Searches**:\n",
        "   - By using a dictionary, we can efficiently track and look up previously encountered numbers (`array[index]` values) as keys in the dictionary.\n",
        "   - This prevents redundant searches within subsequent portions of the array (`array[idx+1:]`) for each element, improving the overall efficiency of the solution.\n",
        "\n",
        "3. **Space Complexity**:\n",
        "   - Although using a dictionary (`present`) consumes additional space, the space complexity remains reasonable (`O(n)` in the worst-case scenario where all elements are unique).\n",
        "   - The dictionary efficiently stores encountered elements and their counts, facilitating quick lookups and avoiding unnecessary iterations.\n",
        "\n",
        "### Comparison with Direct Search Approach:\n",
        "\n",
        "The alternative approach presented with direct array slicing and searching (`targetSum - array[idx] in array[idx+1:]`) has the following drawbacks compared to using a dictionary:\n",
        "\n",
        "- **Time Complexity**:\n",
        "  - Each `in` operation (`targetSum - array[idx] in array[idx+1:]`) would iterate through a portion of the array (`array[idx+1:]`), potentially leading to multiple linear searches (`O(n)`) for each element.\n",
        "  - This can result in a higher overall time complexity (`O(n^2)`) for the solution, especially in scenarios where `n` (length of the array) is large.\n",
        "\n",
        "- **Redundant Operations**:\n",
        "  - The direct search approach involves redundant operations, where for each element, a portion of the array is scanned (`array[idx+1:]`) to check for the complement (`targetSum - array[idx]`).\n",
        "  - This leads to inefficient use of computational resources and can result in suboptimal performance for larger input sizes.\n",
        "\n",
        "### Conclusion:\n",
        "\n",
        "Using a dictionary (hashmap) in the `twoNumberSum` function offers a more efficient and scalable solution compared to directly searching within arrays or sets. The dictionary-based approach leverages efficient lookup operations (`O(1)`) to track and verify previously encountered elements, optimizing both time and space complexity for the problem at hand. This approach is particularly advantageous in scenarios where input sizes (`n`) are large or when optimizing for performance is crucial."
      ],
      "metadata": {
        "id": "loUNI3Ddo-wV"
      },
      "id": "loUNI3Ddo-wV"
    },
    {
      "cell_type": "markdown",
      "id": "6e9bdd4e",
      "metadata": {
        "id": "6e9bdd4e"
      },
      "source": [
        "# Method 4:\n"
      ]
    },
    {
      "cell_type": "markdown",
      "id": "2c2b0615",
      "metadata": {
        "id": "2c2b0615"
      },
      "source": [
        "Best for space complexity. (okay-ish for time complexity)\n",
        "Use any sorting algo and traverse from both ends of the sorted array.\n",
        "\n",
        "\n",
        "Time complexity: O(nlog(n))\n",
        "\n",
        "(It is calculated as:\n",
        "\n",
        "nlog(n) (for sorting) + n (for while loop's worst case scenario).\n",
        "Here, nlog(n) >n and acc to the Big-O convention, we can ignore the smaller term.\n",
        "Thus, after ignoring n, we are left with time complexity of nlog(n).)\n",
        "\n",
        "Sapce complexity: O(1)"
      ]
    },
    {
      "cell_type": "code",
      "execution_count": null,
      "id": "961cd4a7",
      "metadata": {
        "id": "961cd4a7",
        "outputId": "c5611991-b24f-43dd-e837-8aa81e544b32"
      },
      "outputs": [
        {
          "name": "stdout",
          "output_type": "stream",
          "text": [
            "[5, 1]\n"
          ]
        }
      ],
      "source": [
        "def twoNumberSum(array, targetSum):\n",
        "    array.sort()\n",
        "    left = 0\n",
        "    right = len(array)-1\n",
        "\n",
        "    while left < right:\n",
        "        currentSum = array[left] + array[right]\n",
        "        if currentSum == targetSum:\n",
        "            return [array[left], array[right]]\n",
        "        elif currentSum < targetSum:\n",
        "            left += 1\n",
        "        elif currentSum > targetSum:\n",
        "            right -= 1\n",
        "    return []\n",
        "\n",
        "array = [3,5,-4,1]\n",
        "targetSum=6\n",
        "output_array = twoNumberSum(array, targetSum)\n",
        "print(output_array)"
      ]
    }
  ],
  "metadata": {
    "kernelspec": {
      "display_name": "Python 3 (ipykernel)",
      "language": "python",
      "name": "python3"
    },
    "language_info": {
      "codemirror_mode": {
        "name": "ipython",
        "version": 3
      },
      "file_extension": ".py",
      "mimetype": "text/x-python",
      "name": "python",
      "nbconvert_exporter": "python",
      "pygments_lexer": "ipython3",
      "version": "3.9.7"
    },
    "colab": {
      "provenance": [],
      "include_colab_link": true
    }
  },
  "nbformat": 4,
  "nbformat_minor": 5
}
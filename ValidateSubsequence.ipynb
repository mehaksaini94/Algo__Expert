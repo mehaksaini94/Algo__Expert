{
  "cells": [
    {
      "cell_type": "markdown",
      "metadata": {
        "id": "view-in-github",
        "colab_type": "text"
      },
      "source": [
        "<a href=\"https://colab.research.google.com/github/mehaksaini94/Algo__Expert__daily/blob/main/ValidateSubsequence.ipynb\" target=\"_parent\"><img src=\"https://colab.research.google.com/assets/colab-badge.svg\" alt=\"Open In Colab\"/></a>"
      ]
    },
    {
      "cell_type": "markdown",
      "source": [
        "#Method 1: by using for loop.\n",
        "TC: O(n)\n",
        "\n",
        "SC: O(1)\n"
      ],
      "metadata": {
        "id": "KUN68ypBuJcL"
      },
      "id": "KUN68ypBuJcL"
    },
    {
      "cell_type": "code",
      "execution_count": null,
      "id": "27847c8c",
      "metadata": {
        "colab": {
          "base_uri": "https://localhost:8080/"
        },
        "id": "27847c8c",
        "outputId": "57962dbb-910e-4f59-8971-976cc1ef011c"
      },
      "outputs": [
        {
          "output_type": "stream",
          "name": "stdout",
          "text": [
            "True\n"
          ]
        }
      ],
      "source": [
        "def isValidSubsequence(array, sequence):\n",
        "  seq_idx = 0\n",
        "  for ele in array:\n",
        "    if len(sequence) == seq_idx:\n",
        "      break\n",
        "    elif ele == sequence[seq_idx]:\n",
        "      seq_idx +=1\n",
        "\n",
        "\n",
        "  return len(sequence) == seq_idx\n",
        "\n",
        "array = [3,7,0,9,8]\n",
        "sequence = [ 7,0,8]\n",
        "isIt = isValidSubsequence(array, sequence)\n",
        "print(isIt)"
      ]
    },
    {
      "cell_type": "markdown",
      "source": [
        "#Method 2: by using while loop.\n",
        "TC: O(n)\n",
        "\n",
        "SC: O(1)"
      ],
      "metadata": {
        "id": "1EY2WgmptQmU"
      },
      "id": "1EY2WgmptQmU"
    },
    {
      "cell_type": "markdown",
      "source": [
        "**Hint:**\n",
        "\n",
        " Take 2 pointers, arrIdx, for array and seqIdx, for sequence. Initially, make them point to the 0th index of each array.\n",
        "\n",
        " Compare the elements at both pointers. Keep on incrementing the arrIdx pointer irrespective of whether there is a match or not. Only increment seqIdx when there is a match.\n",
        "\n",
        " Stop when either of the array's end is reached."
      ],
      "metadata": {
        "id": "kKKObABYUun9"
      },
      "id": "kKKObABYUun9"
    },
    {
      "cell_type": "code",
      "execution_count": null,
      "id": "d729c56a",
      "metadata": {
        "id": "d729c56a",
        "outputId": "79c36354-6c12-4b1a-f0b3-fff1a913ebd3"
      },
      "outputs": [
        {
          "name": "stdout",
          "output_type": "stream",
          "text": [
            "True\n"
          ]
        }
      ],
      "source": [
        "def isValidSubsequence(array, sequence):\n",
        "    arrIdx = 0\n",
        "    seqIdx = 0\n",
        "    while arrIdx < len(array) and seqIdx < len(sequence):\n",
        "        if array[arrIdx] == sequence[seqIdx]:\n",
        "            seqIdx +=1\n",
        "        arrIdx +=1\n",
        "    return seqIdx == len(sequence)\n",
        "\n",
        "array = [3,7,0,9,8]\n",
        "sequence = [ 7,0,8]\n",
        "isIt = isValidSubsequence(array, sequence)\n",
        "print(isIt)"
      ]
    }
  ],
  "metadata": {
    "kernelspec": {
      "display_name": "Python 3 (ipykernel)",
      "language": "python",
      "name": "python3"
    },
    "language_info": {
      "codemirror_mode": {
        "name": "ipython",
        "version": 3
      },
      "file_extension": ".py",
      "mimetype": "text/x-python",
      "name": "python",
      "nbconvert_exporter": "python",
      "pygments_lexer": "ipython3",
      "version": "3.9.7"
    },
    "colab": {
      "provenance": [],
      "include_colab_link": true
    }
  },
  "nbformat": 4,
  "nbformat_minor": 5
}
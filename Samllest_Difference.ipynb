{
  "nbformat": 4,
  "nbformat_minor": 0,
  "metadata": {
    "colab": {
      "provenance": [],
      "authorship_tag": "ABX9TyP9uaruQtlV2ZnNFoE6gY0S",
      "include_colab_link": true
    },
    "kernelspec": {
      "name": "python3",
      "display_name": "Python 3"
    },
    "language_info": {
      "name": "python"
    }
  },
  "cells": [
    {
      "cell_type": "markdown",
      "metadata": {
        "id": "view-in-github",
        "colab_type": "text"
      },
      "source": [
        "<a href=\"https://colab.research.google.com/github/mehaksaini94/Algo__Expert__daily/blob/main/Samllest_Difference.ipynb\" target=\"_parent\"><img src=\"https://colab.research.google.com/assets/colab-badge.svg\" alt=\"Open In Colab\"/></a>"
      ]
    },
    {
      "cell_type": "code",
      "execution_count": null,
      "metadata": {
        "id": "mArSHcn871Tw"
      },
      "outputs": [],
      "source": [
        "#TC: O(nlog(n)+mlog(m)) | SC: O(1)\n",
        "#where, n=length of first array and m=length of second array\n",
        "def smallestDifference(arrayOne, arrayTwo):\n",
        "    arrayOne.sort()\n",
        "    arrayTwo.sort()\n",
        "    #Here, we are taking 2 pointers i.e., index1 and index2.\n",
        "    index1=0\n",
        "    index2=0\n",
        "\n",
        "    smallest_diff = float(\"inf\")\n",
        "    #Initializing smallest to infinity will help in updating the smallest difference every time.\n",
        "    #This is because, at the very beginning, infinity is gonna be greater than anything.\n",
        "    #So, whatever the first difference we get, we'll be able to update the smallest accordingly.\n",
        "\n",
        "    current_diff = float(\"inf\")\n",
        "\n",
        "    smallestPair = []\n",
        "\n",
        "    while index1<len(arrayOne) and index2<len(arrayTwo):\n",
        "      firstNum = arrayOne[index1]\n",
        "      secondNum = arrayTwo[index2]\n",
        "\n",
        "      current_diff = abs(firstNum - secondNum)\n",
        "\n",
        "      if firstNum < secondNum:\n",
        "        index1 += 1 #Since we want to make the gap between these two numbers smaller.\n",
        "      elif firstNum > secondNum:\n",
        "        index2 += 1\n",
        "      else:\n",
        "        #This is the case when the 2 nos. are equal and we can end the program.\n",
        "        return [firstNum, secondNum]\n",
        "\n",
        "      if smallest_diff > current_diff:\n",
        "        smallest_diff = current_diff\n",
        "        smallestPair = [firstNum, secondNum]\n",
        "\n",
        "    return smallestPair\n"
      ]
    }
  ]
}
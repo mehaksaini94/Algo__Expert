{
  "cells": [
    {
      "cell_type": "markdown",
      "metadata": {
        "id": "view-in-github",
        "colab_type": "text"
      },
      "source": [
        "<a href=\"https://colab.research.google.com/github/mehaksaini94/Algo__Expert__daily/blob/main/Tournament_Winner.ipynb\" target=\"_parent\"><img src=\"https://colab.research.google.com/assets/colab-badge.svg\" alt=\"Open In Colab\"/></a>"
      ]
    },
    {
      "cell_type": "code",
      "source": [
        "HOME_TEAM_WON =1\n",
        "def tournamentWinner(competitions, results):\n",
        "  bestWinningTeam = \"\"\n",
        "  scores ={bestWinningTeam:0}\n",
        "  for index in range(len(competitions)):\n",
        "    if results[index]==HOME_TEAM_WON:\n",
        "      currentWinningTeam = competitions[index][0]\n",
        "    else:\n",
        "      currentWinningTeam = competitions[index][1]\n",
        "    if currentWinningTeam not in scores:\n",
        "      scores[currentWinningTeam] = 0\n",
        "    scores[currentWinningTeam] +=3\n",
        "    if scores[currentWinningTeam] > scores[bestWinningTeam]:\n",
        "      bestWinningTeam = currentWinningTeam\n",
        "\n",
        "  return bestWinningTeam"
      ],
      "metadata": {
        "id": "BMd4mQA8Aqgg"
      },
      "id": "BMd4mQA8Aqgg",
      "execution_count": null,
      "outputs": []
    },
    {
      "cell_type": "markdown",
      "source": [
        "A more elegant way to write the above code:"
      ],
      "metadata": {
        "id": "qJFlbwjsAsoj"
      },
      "id": "qJFlbwjsAsoj"
    },
    {
      "cell_type": "code",
      "execution_count": 2,
      "id": "13a3d7a5",
      "metadata": {
        "id": "13a3d7a5",
        "outputId": "b7fd432f-b7d3-49f2-a7dd-6522a428320d",
        "colab": {
          "base_uri": "https://localhost:8080/"
        }
      },
      "outputs": [
        {
          "output_type": "stream",
          "name": "stdout",
          "text": [
            "{'': 0}\n",
            "C#\n",
            "{'': 0, 'C#': 3}\n",
            "C#\n",
            "{'': 0, 'C#': 3, 'Python': 3}\n",
            "Python\n",
            "{'': 0, 'C#': 3, 'Python': 6}\n",
            "Python\n"
          ]
        }
      ],
      "source": [
        "#O(n) time | O(k) space, where, n = no. of competitions and k = no. of teams.\n",
        "home_team_wins = 1\n",
        "def tournamentWinner(competitions, results):\n",
        "    currentBestTeam = \"\"\n",
        "    dict_score ={currentBestTeam: 0} #This dict will keep track of all the scores of the winning teams.\n",
        "    # Loop through the entire competitions array.\n",
        "    for index, competition in enumerate(competitions):\n",
        "        print(dict_score)\n",
        "        [home_team, away_team] = competition #This is a method in Python to split arrays\n",
        "        #Check what the winning team is based on the value of the result\n",
        "        winning_team = home_team if results[index] == home_team_wins else away_team\n",
        "        update_winning_team_score(winning_team,3,dict_score) #find score of winning team\n",
        "\n",
        "        #compare score and update currentBestTeam\n",
        "        if dict_score[winning_team] > dict_score[currentBestTeam]:\n",
        "            currentBestTeam = winning_team\n",
        "\n",
        "        print(currentBestTeam)\n",
        "    print(dict_score)\n",
        "    return currentBestTeam\n",
        "\n",
        "def update_winning_team_score(winning_team_name,score,dict_score):\n",
        "    if winning_team_name not in dict_score:\n",
        "        dict_score[winning_team_name] = 0\n",
        "    dict_score[winning_team_name] += score\n",
        "\n",
        "competitions = [\n",
        "    [\"HTML\", \"C#\"],\n",
        "    [\"C#\", \"Python\"],\n",
        "    [\"Python\", \"HTML\"]\n",
        "]\n",
        "\n",
        "results = [0,0,1]\n",
        "winning_team = tournamentWinner(competitions, results)\n",
        "print(winning_team)\n"
      ]
    },
    {
      "cell_type": "code",
      "execution_count": null,
      "id": "d9744f40",
      "metadata": {
        "id": "d9744f40",
        "outputId": "c643a815-bca9-442d-c7d1-07e43dc763cf"
      },
      "outputs": [
        {
          "name": "stdout",
          "output_type": "stream",
          "text": [
            "index is  0\n",
            "competition is  ['HTML', 'C#']\n",
            "index is  1\n",
            "competition is  ['C#', 'Python']\n",
            "index is  2\n",
            "competition is  ['Python', 'HTML']\n"
          ]
        }
      ],
      "source": [
        "competitions = [\n",
        "    [\"HTML\", \"C#\"],\n",
        "    [\"C#\", \"Python\"],\n",
        "    [\"Python\", \"HTML\"]\n",
        "]\n",
        "\n",
        "results = [0,0,1]\n",
        "\n",
        "for index, competition in enumerate(competitions):\n",
        "    print(\"index is \", index)\n",
        "    print(\"competition is \",competition)"
      ]
    },
    {
      "cell_type": "code",
      "execution_count": null,
      "id": "f72edc18",
      "metadata": {
        "colab": {
          "base_uri": "https://localhost:8080/"
        },
        "id": "f72edc18",
        "outputId": "73e9e8af-f70f-4ecc-cd0f-94beb728c790"
      },
      "outputs": [
        {
          "output_type": "stream",
          "name": "stdout",
          "text": [
            "1\n",
            "2\n",
            "3\n",
            "4\n"
          ]
        }
      ],
      "source": [
        "arr = [1,2,3,4]\n",
        "a,b,c,d = arr\n",
        "print(a)\n",
        "print(b)\n",
        "print(c)\n",
        "print(d)"
      ]
    },
    {
      "cell_type": "code",
      "source": [],
      "metadata": {
        "id": "hB1-ZpUCDOCY"
      },
      "id": "hB1-ZpUCDOCY",
      "execution_count": null,
      "outputs": []
    }
  ],
  "metadata": {
    "kernelspec": {
      "display_name": "Python 3 (ipykernel)",
      "language": "python",
      "name": "python3"
    },
    "language_info": {
      "codemirror_mode": {
        "name": "ipython",
        "version": 3
      },
      "file_extension": ".py",
      "mimetype": "text/x-python",
      "name": "python",
      "nbconvert_exporter": "python",
      "pygments_lexer": "ipython3",
      "version": "3.9.7"
    },
    "colab": {
      "provenance": [],
      "include_colab_link": true
    }
  },
  "nbformat": 4,
  "nbformat_minor": 5
}
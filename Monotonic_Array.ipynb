{
  "nbformat": 4,
  "nbformat_minor": 0,
  "metadata": {
    "colab": {
      "provenance": [],
      "authorship_tag": "ABX9TyP5hrJ2UO1GmcKmd3g9Ymnd",
      "include_colab_link": true
    },
    "kernelspec": {
      "name": "python3",
      "display_name": "Python 3"
    },
    "language_info": {
      "name": "python"
    }
  },
  "cells": [
    {
      "cell_type": "markdown",
      "metadata": {
        "id": "view-in-github",
        "colab_type": "text"
      },
      "source": [
        "<a href=\"https://colab.research.google.com/github/mehaksaini94/Algo__Expert__daily/blob/main/Monotonic_Array.ipynb\" target=\"_parent\"><img src=\"https://colab.research.google.com/assets/colab-badge.svg\" alt=\"Open In Colab\"/></a>"
      ]
    },
    {
      "cell_type": "code",
      "source": [
        "#TC: O(n) | SC: O(1)\n",
        "def isMonotonic(array):\n",
        "  direction = 0\n",
        "  for i in range(1,len(array)):\n",
        "    if array[i] == array[i-1]:\n",
        "      continue # Skip equal elements\n",
        "\n",
        "    if direction == 0:\n",
        "      #PS: Direction will be 0 only for the irst time. Hence, placing the check of positive\n",
        "      #or negative direction inside this outer if loop will ensure that direction is only\n",
        "      #updated once i.e., it will be either +1 or -1 throughout the program.\n",
        "      if array[i] > array[i-1]:\n",
        "        direction = 1\n",
        "      elif array[i] < array[i-1]:\n",
        "        direction = -1\n",
        "\n",
        "    if not breaksDirection(array[i],array[i-1],direction):\n",
        "      return False\n",
        "\n",
        "  return True #For consecutive arrays (in which direction remains 0 throughout.)\n",
        "\n",
        "\n",
        "def breaksDirection(currentNum,prevNum,direction):\n",
        "  difference = currentNum - prevNum\n",
        "  if direction == 1:\n",
        "    if difference>0:\n",
        "      return True\n",
        "    else:\n",
        "      return False\n",
        "  elif direction == -1:\n",
        "    if difference <0:\n",
        "      return True\n",
        "    else:\n",
        "      return False\n"
      ],
      "metadata": {
        "id": "MKyYuNfBBWoC"
      },
      "execution_count": null,
      "outputs": []
    },
    {
      "cell_type": "markdown",
      "source": [
        "A better way of doing the same thing:"
      ],
      "metadata": {
        "id": "8wmrsmgHBXzc"
      }
    },
    {
      "cell_type": "code",
      "execution_count": null,
      "metadata": {
        "id": "bqp9Gvh5w25w"
      },
      "outputs": [],
      "source": [
        "#Solution based on Hint 2\n",
        "#TC: O(n) | SC: O(1)\n",
        "def isMonotonic(array):\n",
        "    if len(array)<=2:\n",
        "      return True\n",
        "\n",
        "    direction = array[1] - array[0]\n",
        "\n",
        "    for i in range(2,len(array)):\n",
        "      if direction == 0:\n",
        "        direction = array[i] - array[i-1]\n",
        "        continue\n",
        "      if breaksDirection(direction, array[i-1], array[i]):\n",
        "        return False\n",
        "\n",
        "    return True\n",
        "\n",
        "def breaksDirection(direction, prevInt, currentInt):\n",
        "    difference = currentInt - prevInt\n",
        "    if direction>0:\n",
        "      return difference < 0\n",
        "    return difference > 0"
      ]
    },
    {
      "cell_type": "markdown",
      "source": [
        "An even more elegant way to write the program (in very few lines lines):"
      ],
      "metadata": {
        "id": "axVgx4OLRQYf"
      }
    },
    {
      "cell_type": "code",
      "source": [
        "#Solution based on Hint 3\n",
        "#TC: O(n) | SC: O(1)\n",
        "def isMonotonic(array):\n",
        "    isNonDecreasing = True\n",
        "    isNonIncreasing = True\n",
        "\n",
        "    for index in range(1,len(array)):\n",
        "      if array[index] < array[index - 1]:\n",
        "        isNonDecreasing = False\n",
        "      if array[index] > array[index - 1]:\n",
        "        isNonIncreasing = False\n",
        "\n",
        "    return isNonDecreasing or isNonIncreasing\n"
      ],
      "metadata": {
        "id": "IiER8jrbxRRC"
      },
      "execution_count": null,
      "outputs": []
    }
  ]
}
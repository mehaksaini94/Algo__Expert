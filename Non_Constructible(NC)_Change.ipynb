{
  "cells": [
    {
      "cell_type": "markdown",
      "metadata": {
        "id": "view-in-github",
        "colab_type": "text"
      },
      "source": [
        "<a href=\"https://colab.research.google.com/github/mehaksaini94/Algo__Expert__daily/blob/main/Non_Constructible(NC)_Change.ipynb\" target=\"_parent\"><img src=\"https://colab.research.google.com/assets/colab-badge.svg\" alt=\"Open In Colab\"/></a>"
      ]
    },
    {
      "cell_type": "code",
      "execution_count": null,
      "id": "18998b81",
      "metadata": {
        "id": "18998b81",
        "outputId": "8c5ec57b-b9ab-43b2-f5eb-aefca36e01f3"
      },
      "outputs": [
        {
          "name": "stdout",
          "output_type": "stream",
          "text": [
            "11\n"
          ]
        }
      ],
      "source": [
        "#TC: O(nlog(n)) | SC: O(1)\n",
        "def nonConstructibleChange(coins):\n",
        "    coins.sort()\n",
        "    CurrentMaxChange = 0\n",
        "    for element in coins:\n",
        "        if element > CurrentMaxChange +1:\n",
        "            return (CurrentMaxChange +1)\n",
        "        elif element <= (CurrentMaxChange + 1):\n",
        "            CurrentMaxChange = element + CurrentMaxChange\n",
        "    return (CurrentMaxChange +1) #for array with consecutive nos.\n",
        "\n",
        "coins =[5,7,1,1,2,3,22]\n",
        "#coins = [1,2,3,4]\n",
        "NC_sum = nonConstructibleChange(coins)\n",
        "print(NC_sum)"
      ]
    },
    {
      "cell_type": "code",
      "execution_count": null,
      "id": "da2602c1",
      "metadata": {
        "colab": {
          "base_uri": "https://localhost:8080/"
        },
        "id": "da2602c1",
        "outputId": "a49f417d-1cf6-413f-db6e-69e6f353c7dc"
      },
      "outputs": [
        {
          "output_type": "stream",
          "name": "stdout",
          "text": [
            "yo\n"
          ]
        }
      ],
      "source": [
        "coins = []\n",
        "if len(coins)==0:\n",
        "  print('yo')"
      ]
    },
    {
      "cell_type": "code",
      "source": [
        "if coins == []:\n",
        "  print('yo')"
      ],
      "metadata": {
        "colab": {
          "base_uri": "https://localhost:8080/"
        },
        "id": "U6i3D54JoUlx",
        "outputId": "8e0d07c0-c195-4d34-bcd9-8f4a70f6da7b"
      },
      "id": "U6i3D54JoUlx",
      "execution_count": null,
      "outputs": [
        {
          "output_type": "stream",
          "name": "stdout",
          "text": [
            "yo\n"
          ]
        }
      ]
    },
    {
      "cell_type": "code",
      "source": [],
      "metadata": {
        "id": "BMSYfHIHoX1F"
      },
      "id": "BMSYfHIHoX1F",
      "execution_count": null,
      "outputs": []
    }
  ],
  "metadata": {
    "kernelspec": {
      "display_name": "Python 3 (ipykernel)",
      "language": "python",
      "name": "python3"
    },
    "language_info": {
      "codemirror_mode": {
        "name": "ipython",
        "version": 3
      },
      "file_extension": ".py",
      "mimetype": "text/x-python",
      "name": "python",
      "nbconvert_exporter": "python",
      "pygments_lexer": "ipython3",
      "version": "3.9.7"
    },
    "colab": {
      "provenance": [],
      "include_colab_link": true
    }
  },
  "nbformat": 4,
  "nbformat_minor": 5
}
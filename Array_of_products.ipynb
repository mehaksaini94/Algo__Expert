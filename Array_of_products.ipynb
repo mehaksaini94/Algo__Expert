{
  "nbformat": 4,
  "nbformat_minor": 0,
  "metadata": {
    "colab": {
      "provenance": [],
      "authorship_tag": "ABX9TyPPmkeLNfiXy7/8ZjiVHtlR",
      "include_colab_link": true
    },
    "kernelspec": {
      "name": "python3",
      "display_name": "Python 3"
    },
    "language_info": {
      "name": "python"
    }
  },
  "cells": [
    {
      "cell_type": "markdown",
      "metadata": {
        "id": "view-in-github",
        "colab_type": "text"
      },
      "source": [
        "<a href=\"https://colab.research.google.com/github/mehaksaini94/Algo__Expert__daily/blob/main/Array_of_products.ipynb\" target=\"_parent\"><img src=\"https://colab.research.google.com/assets/colab-badge.svg\" alt=\"Open In Colab\"/></a>"
      ]
    },
    {
      "cell_type": "markdown",
      "source": [
        "## **Solution 1: Brute Force Algorithm:**"
      ],
      "metadata": {
        "id": "zlrRUEA8GW5W"
      }
    },
    {
      "cell_type": "code",
      "execution_count": null,
      "metadata": {
        "id": "F1Q0Weo2GT09"
      },
      "outputs": [],
      "source": [
        "#TC: O(n^2) | SC: O(n)\n",
        "def arrayOfProducts(array):\n",
        "    output_array = [0 for _ in range(len(array))]\n",
        "\n",
        "    for i in range(len(array)):\n",
        "      product = 1\n",
        "      for j in range(i+1,len(array)):\n",
        "        product = product*array[j]\n",
        "\n",
        "      for k in range(0,i):\n",
        "        product = product*array[k]\n",
        "\n",
        "      output_array[i] = product\n",
        "\n",
        "    return output_array\n"
      ]
    },
    {
      "cell_type": "markdown",
      "source": [
        "Another way of doing the same thing:"
      ],
      "metadata": {
        "id": "cgQg3TlvGdfO"
      }
    },
    {
      "cell_type": "code",
      "source": [
        "#TC: O(n^2) | SC: O(n)\n",
        "def arrayOfProducts(array):\n",
        "    output_array = [0 for _ in range(len(array))]\n",
        "\n",
        "    for i in range(len(array)):\n",
        "      product = 1\n",
        "      for j in range(len(array)):\n",
        "        if i!=j:\n",
        "          product = product*array[j]\n",
        "      output_array[i] = product\n",
        "\n",
        "    return output_array"
      ],
      "metadata": {
        "id": "UzhgizXpGdDn"
      },
      "execution_count": null,
      "outputs": []
    },
    {
      "cell_type": "markdown",
      "source": [
        "## **Solution 2:**\n",
        "\n",
        "Create 2 arrays: left_array and right_array.\n",
        "\n",
        "The left array is going to store the product of all the elements to the left of an index and the right array is going to store the product of all the elements to the right of that index.\n",
        "\n",
        "We're then gonna take the corresponding indices in the left and the right array, multiply them together, insert those in the correct position in the output array and return that output arary."
      ],
      "metadata": {
        "id": "ld53CvBRG9Ne"
      }
    },
    {
      "cell_type": "code",
      "source": [
        "# TC: O(n^2) | SC: O(n)\n",
        "def arrayOfProducts(array):\n",
        "    products = [1 for _ in range(len(array))]\n",
        "    left_array = [1 for _ in range(len(array))]\n",
        "    right_array = [1 for _ in range(len(array))]\n",
        "\n",
        "    left_running_product = 1\n",
        "    for i in range(len(array)):\n",
        "        left_array[i] = left_running_product\n",
        "        left_running_product *= array[i]\n",
        "\n",
        "    right_running_product = 1\n",
        "    for i in reversed(range(len(array))):\n",
        "      right_array[i] = right_running_product\n",
        "      right_running_product *= array[i]\n",
        "\n",
        "\n",
        "    for i in range(len(array)):\n",
        "      products[i] = left_array[i]* right_array[i]\n",
        "\n",
        "    return products"
      ],
      "metadata": {
        "id": "RwIzGXf9HIW1"
      },
      "execution_count": null,
      "outputs": []
    },
    {
      "cell_type": "markdown",
      "source": [
        "## **Solution 3:**"
      ],
      "metadata": {
        "id": "f-jMj0e3I2Sj"
      }
    },
    {
      "cell_type": "code",
      "source": [
        "# TC: O(n^2) | SC: O(n)\n",
        "def arrayOfProducts(array):\n",
        "    products = [1 for _ in range(len(array))]\n",
        "\n",
        "    left_running_product = 1\n",
        "    for i in range(len(array)):\n",
        "        products[i] = left_running_product\n",
        "        left_running_product *= array[i]\n",
        "\n",
        "    right_running_product = 1\n",
        "    for i in reversed(range(len(array))):\n",
        "      products[i] *= right_running_product\n",
        "      right_running_product *= array[i]\n",
        "\n",
        "    return products\n",
        "\n"
      ],
      "metadata": {
        "id": "i5t-CQ1NI4eR"
      },
      "execution_count": null,
      "outputs": []
    }
  ]
}
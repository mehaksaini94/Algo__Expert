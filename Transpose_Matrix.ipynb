{
  "nbformat": 4,
  "nbformat_minor": 0,
  "metadata": {
    "colab": {
      "provenance": [],
      "authorship_tag": "ABX9TyNm2LL7nddZnRnQkfUlPLiT",
      "include_colab_link": true
    },
    "kernelspec": {
      "name": "python3",
      "display_name": "Python 3"
    },
    "language_info": {
      "name": "python"
    }
  },
  "cells": [
    {
      "cell_type": "markdown",
      "metadata": {
        "id": "view-in-github",
        "colab_type": "text"
      },
      "source": [
        "<a href=\"https://colab.research.google.com/github/mehaksaini94/Algo__Expert__daily/blob/main/Transpose_Matrix.ipynb\" target=\"_parent\"><img src=\"https://colab.research.google.com/assets/colab-badge.svg\" alt=\"Open In Colab\"/></a>"
      ]
    },
    {
      "cell_type": "code",
      "execution_count": null,
      "metadata": {
        "id": "zsG3Hamz2Xrr"
      },
      "outputs": [],
      "source": [
        "#TC: O(w*h) | SC: O(w*h) where, w and h are the width and height of matrix\n",
        "def transposeMatrix(competitions):\n",
        "  transposed = []\n",
        "  for i in range(len(competitions[0])):\n",
        "    lst =[]\n",
        "    for row in competitions:\n",
        "      lst.append(row[i])\n",
        "    transposed.append(lst)\n",
        "  return transposed\n",
        "\n",
        "print(transposeMatrix(competitions))"
      ]
    }
  ]
}
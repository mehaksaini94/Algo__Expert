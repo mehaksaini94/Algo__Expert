{
  "nbformat": 4,
  "nbformat_minor": 0,
  "metadata": {
    "colab": {
      "provenance": [],
      "authorship_tag": "ABX9TyMUmBwVVjpHNkN/s2807dH9",
      "include_colab_link": true
    },
    "kernelspec": {
      "name": "python3",
      "display_name": "Python 3"
    },
    "language_info": {
      "name": "python"
    }
  },
  "cells": [
    {
      "cell_type": "markdown",
      "metadata": {
        "id": "view-in-github",
        "colab_type": "text"
      },
      "source": [
        "<a href=\"https://colab.research.google.com/github/mehaksaini94/Algo__Expert__daily/blob/main/Transpose_Matrix.ipynb\" target=\"_parent\"><img src=\"https://colab.research.google.com/assets/colab-badge.svg\" alt=\"Open In Colab\"/></a>"
      ]
    },
    {
      "cell_type": "code",
      "execution_count": 1,
      "metadata": {
        "colab": {
          "base_uri": "https://localhost:8080/"
        },
        "id": "zsG3Hamz2Xrr",
        "outputId": "b6d90ba6-477a-4fa3-ccf4-bd7c59203cbb"
      },
      "outputs": [
        {
          "output_type": "stream",
          "name": "stdout",
          "text": [
            "[['HTML', 'C#', 'Python'], ['C#', 'Python', 'HTML']]\n"
          ]
        }
      ],
      "source": [
        "#TC: O(w*h) | SC: O(w*h) where, w and h are the width and height of matrix\n",
        "\n",
        "competitions = [\n",
        "    [\"HTML\", \"C#\"],\n",
        "    [\"C#\", \"Python\"],\n",
        "    [\"Python\", \"HTML\"],\n",
        "]\n",
        "\n",
        "def transposeMatrix(competitions):\n",
        "  transposed = []\n",
        "  for i in range(len(competitions[0])):\n",
        "    lst =[]\n",
        "    for row in competitions:\n",
        "      lst.append(row[i])\n",
        "    transposed.append(lst)\n",
        "  return transposed\n",
        "\n",
        "print(transposeMatrix(competitions))"
      ]
    },
    {
      "cell_type": "code",
      "source": [],
      "metadata": {
        "id": "9h2wXA9T3WMm"
      },
      "execution_count": null,
      "outputs": []
    }
  ]
}
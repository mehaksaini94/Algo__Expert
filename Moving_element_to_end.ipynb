{
  "nbformat": 4,
  "nbformat_minor": 0,
  "metadata": {
    "colab": {
      "provenance": [],
      "authorship_tag": "ABX9TyOV2ynoiddsflEmZR1KBFE6",
      "include_colab_link": true
    },
    "kernelspec": {
      "name": "python3",
      "display_name": "Python 3"
    },
    "language_info": {
      "name": "python"
    }
  },
  "cells": [
    {
      "cell_type": "markdown",
      "metadata": {
        "id": "view-in-github",
        "colab_type": "text"
      },
      "source": [
        "<a href=\"https://colab.research.google.com/github/mehaksaini94/Algo__Expert__daily/blob/main/Moving_element_to_end.ipynb\" target=\"_parent\"><img src=\"https://colab.research.google.com/assets/colab-badge.svg\" alt=\"Open In Colab\"/></a>"
      ]
    },
    {
      "cell_type": "markdown",
      "source": [
        "##Method 1:\n",
        "\n",
        "1.) Sort array\n",
        "\n",
        "2.) count all occurences of the num to be moved.\n",
        "\n",
        "3.) move them to the end\n",
        "\n",
        "\n",
        "**Major disadvantage:**\n",
        "\n",
        "TC = O(nlog(n))\n",
        "\n",
        "PS: WE CAN DO BETTER, GUYS!!"
      ],
      "metadata": {
        "id": "7JvGFgRf-ECC"
      }
    },
    {
      "cell_type": "code",
      "source": [
        "#TC: O(nlogn) | SC:O(1)\n",
        "def moveElementToEnd(array, toMove):\n",
        "    if toMove not in array:\n",
        "        return array\n",
        "\n",
        "    array.sort()  # Sorting the array\n",
        "    num_of_occurrences = array.count(toMove)\n",
        "    print('num_of_occurrences:',num_of_occurrences)\n",
        "    first_occurrence = array.index(toMove)\n",
        "    print('first_occurrence:',first_occurrence)\n",
        "\n",
        "    # Move non-toMove elements to the left\n",
        "    leftPtr = first_occurrence  # Start from the first occurrence of toMove\n",
        "    for i in range(first_occurrence + num_of_occurrences, len(array)):\n",
        "        array[leftPtr] = array[i]\n",
        "        leftPtr += 1\n",
        "\n",
        "    # Fill the remaining positions with toMove\n",
        "    for i in range(leftPtr, len(array)):\n",
        "        array[i] = toMove\n",
        "\n",
        "    return array\n",
        "\n",
        "\n",
        "# Test the function\n",
        "array = [2, 1, 2, 2, 2, 3, 4, 2]\n",
        "toMove = 2\n",
        "result = moveElementToEnd(array, toMove)\n",
        "print(result)  # Expected output: [1, 3, 4, 2, 2, 2, 2, 2]\n"
      ],
      "metadata": {
        "id": "kvjSEE_C0CVR"
      },
      "execution_count": null,
      "outputs": []
    },
    {
      "cell_type": "markdown",
      "source": [
        "##Method 2:\n",
        "\n",
        "Use two pointer method."
      ],
      "metadata": {
        "id": "2Tb1-eJr-bPv"
      }
    },
    {
      "cell_type": "code",
      "execution_count": null,
      "metadata": {
        "id": "EldjiYkYtYOh"
      },
      "outputs": [],
      "source": [
        "#TC: O(n) | SC: O(1)\n",
        "def moveElementToEnd(array, toMove):\n",
        "    leftPtr = 0\n",
        "    rightPtr = len(array)-1\n",
        "\n",
        "    while leftPtr<rightPtr:\n",
        "      if array[rightPtr] == toMove:\n",
        "        rightPtr -=1\n",
        "\n",
        "      elif array[leftPtr] == toMove:\n",
        "        #swap\n",
        "        array[leftPtr], array[rightPtr] = array[rightPtr],array[leftPtr]\n",
        "        leftPtr +=1\n",
        "        rightPtr -=1\n",
        "      else:\n",
        "        leftPtr +=1\n",
        "    return array"
      ]
    },
    {
      "cell_type": "markdown",
      "source": [
        "PS: When a problem can be solved in linear time, it means that it can be solved without sorting.\n"
      ],
      "metadata": {
        "id": "WvnWZttA-gZx"
      }
    }
  ]
}
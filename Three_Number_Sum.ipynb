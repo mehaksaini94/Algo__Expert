{
  "nbformat": 4,
  "nbformat_minor": 0,
  "metadata": {
    "colab": {
      "provenance": [],
      "authorship_tag": "ABX9TyM3sOjY/PwWIDC2QE/mATbW",
      "include_colab_link": true
    },
    "kernelspec": {
      "name": "python3",
      "display_name": "Python 3"
    },
    "language_info": {
      "name": "python"
    }
  },
  "cells": [
    {
      "cell_type": "markdown",
      "metadata": {
        "id": "view-in-github",
        "colab_type": "text"
      },
      "source": [
        "<a href=\"https://colab.research.google.com/github/mehaksaini94/Algo__Expert__daily/blob/main/Three_Number_Sum.ipynb\" target=\"_parent\"><img src=\"https://colab.research.google.com/assets/colab-badge.svg\" alt=\"Open In Colab\"/></a>"
      ]
    },
    {
      "cell_type": "code",
      "execution_count": null,
      "metadata": {
        "id": "C476fU03DZ48"
      },
      "outputs": [],
      "source": [
        "#Brute force approach (Use 3 for loops)\n",
        "#TC: O(n^3)\n",
        "def threeNumberSum(array, targetSum):\n",
        "    array.sort()\n",
        "    #Sorting helps in identifying and eliminating duplicate triplets efficiently.\n",
        "    possible_sols = []\n",
        "\n",
        "    #Iterate over array with three nested loops\n",
        "    #Ensure that i, j, and k are distinct indices to avoid duplicate combinations (j > i, k > j).\n",
        "    for i in range(len(array) - 2):\n",
        "        for j in range(i + 1, len(array) - 1):\n",
        "            for k in range(j + 1, len(array)):\n",
        "                # Check if current triplet sums up to targetSum\n",
        "                if array[i] + array[j] + array[k] == targetSum:\n",
        "                    # Create a triplet and check for uniqueness\n",
        "                    triplet = [array[i], array[j], array[k]]\n",
        "                    #Check if the triplet is not already in possible_sols to avoid duplicates.\n",
        "                    #If not, append the triplet to possible_sols.\n",
        "                    if triplet not in possible_sols:\n",
        "                        possible_sols.append(triplet)\n",
        "\n",
        "    return possible_sols"
      ]
    },
    {
      "cell_type": "code",
      "source": [
        "#Optimal solution\n",
        "#TC: O(n^2) | SC: O(n)\n",
        "def threeNumberSum(array, targetSum):\n",
        "    array.sort()\n",
        "    list_of_triplets = []\n",
        "\n",
        "    for i in range(len(array)-2):\n",
        "      leftPtr = i+1\n",
        "      rightPtr = len(array)-1\n",
        "\n",
        "      while leftPtr < rightPtr:\n",
        "        currentSum = array[i] + array[leftPtr] + array[rightPtr]\n",
        "\n",
        "        if currentSum == targetSum:\n",
        "          list_of_triplets.append([array[i], array[leftPtr], array[rightPtr]])\n",
        "          leftPtr +=1\n",
        "          rightPtr -=1\n",
        "\n",
        "        elif currentSum > targetSum:\n",
        "          rightPtr -=1\n",
        "\n",
        "        elif currentSum < targetSum:\n",
        "          leftPtr +=1\n",
        "\n",
        "    return list_of_triplets\n",
        "\n"
      ],
      "metadata": {
        "id": "at3OSRj6DfnP"
      },
      "execution_count": null,
      "outputs": []
    }
  ]
}